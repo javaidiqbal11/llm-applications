{
 "cells": [
  {
   "cell_type": "code",
   "execution_count": 12,
   "metadata": {},
   "outputs": [
    {
     "data": {
      "text/plain": [
       "True"
      ]
     },
     "execution_count": 12,
     "metadata": {},
     "output_type": "execute_result"
    }
   ],
   "source": [
    "import sys; sys.path.append(\"..\")\n",
    "from dotenv import load_dotenv; load_dotenv()"
   ]
  },
  {
   "cell_type": "markdown",
   "metadata": {},
   "source": [
    "# Improving the RAG Application\n",
    "\n",
    "## Logging requests\n",
    "\n",
    "In order to improve the performance of the RAG application it is crucial that we log each request so we can study what to improve. To make parsing of the data easier, we use the Python `structlog` package. First we need to configure the logging, which happens in `rag/serve.py`. We are storing the logs in a network file system, configured via the `RAY_ASSISTANT_LOGS` environment variable and make sure a timestamp is written for each log line. The logs are then rendered as JSON lines and written to the log file:\n",
    "\n",
    "```python\n",
    "# Configure logging\n",
    "logging.basicConfig(filename=os.environ[\"RAY_ASSISTANT_LOGS\"], level=logging.INFO, encoding='utf-8')\n",
    "structlog.configure(\n",
    "    processors=[\n",
    "        structlog.processors.TimeStamper(fmt=\"iso\"),\n",
    "        structlog.processors.JSONRenderer(),\n",
    "    ],\n",
    "    logger_factory=structlog.stdlib.LoggerFactory(),\n",
    ")\n",
    "logger = structlog.get_logger()\n",
    "```\n",
    "\n",
    "The actual call that records the log then looks like the following:\n",
    "\n",
    "```python\n",
    "logger.info(\n",
    "    \"finished streaming query\",\n",
    "    query=query,\n",
    "    document_ids=result[\"document_ids\"],\n",
    "    llm=result[\"llm\"],\n",
    "    answer=answer\n",
    ")\n",
    "```\n",
    "\n",
    "Depending on your application, it might make sense to add more fields to the logs -- we are logging the user's `query`, the document IDs retrieved from the database that make up the context as well as the LLM that was used for answering the query.\n",
    "\n",
    "## Evaluating the data"
   ]
  },
  {
   "cell_type": "code",
   "execution_count": 4,
   "metadata": {},
   "outputs": [],
   "source": [
    "import json\n",
    "\n",
    "records = []\n",
    "log_prefix = \"INFO:rag.serve:\"\n",
    "with open(\"/mnt/shared_storage/ray-assistant-logs/info.copy\") as f:\n",
    "    records = [json.loads(line.removeprefix(log_prefix)) for line in f if line.startswith(log_prefix)]"
   ]
  },
  {
   "cell_type": "code",
   "execution_count": 14,
   "metadata": {},
   "outputs": [],
   "source": [
    "import pandas as pd\n",
    "\n",
    "df = pd.DataFrame.from_records(records)\n",
    "df['timestamp']= pd.to_datetime(df['timestamp'])\n",
    "df.set_index('timestamp', inplace=True)"
   ]
  },
  {
   "cell_type": "code",
   "execution_count": 15,
   "metadata": {},
   "outputs": [
    {
     "data": {
      "text/html": [
       "<div>\n",
       "<style scoped>\n",
       "    .dataframe tbody tr th:only-of-type {\n",
       "        vertical-align: middle;\n",
       "    }\n",
       "\n",
       "    .dataframe tbody tr th {\n",
       "        vertical-align: top;\n",
       "    }\n",
       "\n",
       "    .dataframe thead th {\n",
       "        text-align: right;\n",
       "    }\n",
       "</style>\n",
       "<table border=\"1\" class=\"dataframe\">\n",
       "  <thead>\n",
       "    <tr style=\"text-align: right;\">\n",
       "      <th></th>\n",
       "      <th>query</th>\n",
       "      <th>document_ids</th>\n",
       "      <th>llm</th>\n",
       "      <th>answer</th>\n",
       "      <th>event</th>\n",
       "    </tr>\n",
       "    <tr>\n",
       "      <th>timestamp</th>\n",
       "      <th></th>\n",
       "      <th></th>\n",
       "      <th></th>\n",
       "      <th></th>\n",
       "      <th></th>\n",
       "    </tr>\n",
       "  </thead>\n",
       "  <tbody>\n",
       "    <tr>\n",
       "      <th>2023-09-16 05:56:12.792456+00:00</th>\n",
       "      <td>Give me a code example for creating an actor.</td>\n",
       "      <td>[3689, 9659, 3746, 11936, 3854, 4549, 3748]</td>\n",
       "      <td>gpt-4</td>\n",
       "      <td>Here is a Python code example for creating an ...</td>\n",
       "      <td>finished streaming query</td>\n",
       "    </tr>\n",
       "    <tr>\n",
       "      <th>2023-09-16 06:04:57.823437+00:00</th>\n",
       "      <td>What is Ray?</td>\n",
       "      <td>[4538, 3471, 11362, 8371, 4445, 8271, 5358]</td>\n",
       "      <td>meta-llama/Llama-2-70b-chat-hf</td>\n",
       "      <td>Ray is a framework for running arbitrary code ...</td>\n",
       "      <td>finished streaming query</td>\n",
       "    </tr>\n",
       "    <tr>\n",
       "      <th>2023-09-16 06:13:44.251850+00:00</th>\n",
       "      <td>How can I read all text files from the bucket ...</td>\n",
       "      <td>[6102, 6388, 6571, 6706, 7458, 5701, 6188]</td>\n",
       "      <td>meta-llama/Llama-2-70b-chat-hf</td>\n",
       "      <td>To read all text files from the bucket \"s3://r...</td>\n",
       "      <td>finished streaming query</td>\n",
       "    </tr>\n",
       "    <tr>\n",
       "      <th>2023-09-16 06:14:15.046320+00:00</th>\n",
       "      <td>How can I read all text files from the bucket ...</td>\n",
       "      <td>[6706, 6187, 6188, 6102, 6140, 6388, 6571]</td>\n",
       "      <td>meta-llama/Llama-2-70b-chat-hf</td>\n",
       "      <td>Sure! Here's a succinct answer to the query:\\n...</td>\n",
       "      <td>finished streaming query</td>\n",
       "    </tr>\n",
       "    <tr>\n",
       "      <th>2023-09-16 06:14:31.911983+00:00</th>\n",
       "      <td>How can I read all text files from the bucket ...</td>\n",
       "      <td>[6706, 6102, 6187, 6388, 6188, 5685, 6140]</td>\n",
       "      <td>meta-llama/Llama-2-70b-chat-hf</td>\n",
       "      <td>To read all text files from the bucket \"s3://r...</td>\n",
       "      <td>finished streaming query</td>\n",
       "    </tr>\n",
       "    <tr>\n",
       "      <th>...</th>\n",
       "      <td>...</td>\n",
       "      <td>...</td>\n",
       "      <td>...</td>\n",
       "      <td>...</td>\n",
       "      <td>...</td>\n",
       "    </tr>\n",
       "    <tr>\n",
       "      <th>2023-09-26 22:39:06.602940+00:00</th>\n",
       "      <td>how to install all ray dependencies at once\\n\\n</td>\n",
       "      <td>[4568, 8012, 3550, 640, 461]</td>\n",
       "      <td>meta-llama/Llama-2-70b-chat-hf</td>\n",
       "      <td>To install all Ray dependencies at once, you ...</td>\n",
       "      <td>finished streaming query</td>\n",
       "    </tr>\n",
       "    <tr>\n",
       "      <th>2023-09-26 22:46:16.754912+00:00</th>\n",
       "      <td>what are the different Trainers available?</td>\n",
       "      <td>[12001, 7375, 7087, 7043, 7001]</td>\n",
       "      <td>meta-llama/Llama-2-70b-chat-hf</td>\n",
       "      <td>The different Trainers available are:\\n\\n* Ba...</td>\n",
       "      <td>finished streaming query</td>\n",
       "    </tr>\n",
       "    <tr>\n",
       "      <th>2023-09-26 22:49:30.055570+00:00</th>\n",
       "      <td>connect worker to already existing cluster\\n\\n</td>\n",
       "      <td>[5248, 3980, 5270, 4430, 5355]</td>\n",
       "      <td>meta-llama/Llama-2-70b-chat-hf</td>\n",
       "      <td>To connect a worker node to an existing Ray c...</td>\n",
       "      <td>finished streaming query</td>\n",
       "    </tr>\n",
       "    <tr>\n",
       "      <th>2023-09-26 22:49:32.799948+00:00</th>\n",
       "      <td>Can I use deepspeed with ray serve?</td>\n",
       "      <td>[6992, 8091, 7008, 11051, 11362]</td>\n",
       "      <td>meta-llama/Llama-2-70b-chat-hf</td>\n",
       "      <td>Yes, you can use DeepSpeed with Ray Serve. Ac...</td>\n",
       "      <td>finished streaming query</td>\n",
       "    </tr>\n",
       "    <tr>\n",
       "      <th>2023-09-26 22:56:31.481002+00:00</th>\n",
       "      <td>Can you give assignment on Ray serve for basic...</td>\n",
       "      <td>[11362, 4538, 11052, 8390, 11608]</td>\n",
       "      <td>meta-llama/Llama-2-70b-chat-hf</td>\n",
       "      <td>Sure, here's a simple assignment that you can...</td>\n",
       "      <td>finished streaming query</td>\n",
       "    </tr>\n",
       "  </tbody>\n",
       "</table>\n",
       "<p>230 rows × 5 columns</p>\n",
       "</div>"
      ],
      "text/plain": [
       "                                                                              query  \\\n",
       "timestamp                                                                             \n",
       "2023-09-16 05:56:12.792456+00:00      Give me a code example for creating an actor.   \n",
       "2023-09-16 06:04:57.823437+00:00                                       What is Ray?   \n",
       "2023-09-16 06:13:44.251850+00:00  How can I read all text files from the bucket ...   \n",
       "2023-09-16 06:14:15.046320+00:00  How can I read all text files from the bucket ...   \n",
       "2023-09-16 06:14:31.911983+00:00  How can I read all text files from the bucket ...   \n",
       "...                                                                             ...   \n",
       "2023-09-26 22:39:06.602940+00:00    how to install all ray dependencies at once\\n\\n   \n",
       "2023-09-26 22:46:16.754912+00:00         what are the different Trainers available?   \n",
       "2023-09-26 22:49:30.055570+00:00     connect worker to already existing cluster\\n\\n   \n",
       "2023-09-26 22:49:32.799948+00:00                Can I use deepspeed with ray serve?   \n",
       "2023-09-26 22:56:31.481002+00:00  Can you give assignment on Ray serve for basic...   \n",
       "\n",
       "                                                                 document_ids  \\\n",
       "timestamp                                                                       \n",
       "2023-09-16 05:56:12.792456+00:00  [3689, 9659, 3746, 11936, 3854, 4549, 3748]   \n",
       "2023-09-16 06:04:57.823437+00:00  [4538, 3471, 11362, 8371, 4445, 8271, 5358]   \n",
       "2023-09-16 06:13:44.251850+00:00   [6102, 6388, 6571, 6706, 7458, 5701, 6188]   \n",
       "2023-09-16 06:14:15.046320+00:00   [6706, 6187, 6188, 6102, 6140, 6388, 6571]   \n",
       "2023-09-16 06:14:31.911983+00:00   [6706, 6102, 6187, 6388, 6188, 5685, 6140]   \n",
       "...                                                                       ...   \n",
       "2023-09-26 22:39:06.602940+00:00                 [4568, 8012, 3550, 640, 461]   \n",
       "2023-09-26 22:46:16.754912+00:00              [12001, 7375, 7087, 7043, 7001]   \n",
       "2023-09-26 22:49:30.055570+00:00               [5248, 3980, 5270, 4430, 5355]   \n",
       "2023-09-26 22:49:32.799948+00:00             [6992, 8091, 7008, 11051, 11362]   \n",
       "2023-09-26 22:56:31.481002+00:00            [11362, 4538, 11052, 8390, 11608]   \n",
       "\n",
       "                                                             llm  \\\n",
       "timestamp                                                          \n",
       "2023-09-16 05:56:12.792456+00:00                           gpt-4   \n",
       "2023-09-16 06:04:57.823437+00:00  meta-llama/Llama-2-70b-chat-hf   \n",
       "2023-09-16 06:13:44.251850+00:00  meta-llama/Llama-2-70b-chat-hf   \n",
       "2023-09-16 06:14:15.046320+00:00  meta-llama/Llama-2-70b-chat-hf   \n",
       "2023-09-16 06:14:31.911983+00:00  meta-llama/Llama-2-70b-chat-hf   \n",
       "...                                                          ...   \n",
       "2023-09-26 22:39:06.602940+00:00  meta-llama/Llama-2-70b-chat-hf   \n",
       "2023-09-26 22:46:16.754912+00:00  meta-llama/Llama-2-70b-chat-hf   \n",
       "2023-09-26 22:49:30.055570+00:00  meta-llama/Llama-2-70b-chat-hf   \n",
       "2023-09-26 22:49:32.799948+00:00  meta-llama/Llama-2-70b-chat-hf   \n",
       "2023-09-26 22:56:31.481002+00:00  meta-llama/Llama-2-70b-chat-hf   \n",
       "\n",
       "                                                                             answer  \\\n",
       "timestamp                                                                             \n",
       "2023-09-16 05:56:12.792456+00:00  Here is a Python code example for creating an ...   \n",
       "2023-09-16 06:04:57.823437+00:00  Ray is a framework for running arbitrary code ...   \n",
       "2023-09-16 06:13:44.251850+00:00  To read all text files from the bucket \"s3://r...   \n",
       "2023-09-16 06:14:15.046320+00:00  Sure! Here's a succinct answer to the query:\\n...   \n",
       "2023-09-16 06:14:31.911983+00:00  To read all text files from the bucket \"s3://r...   \n",
       "...                                                                             ...   \n",
       "2023-09-26 22:39:06.602940+00:00   To install all Ray dependencies at once, you ...   \n",
       "2023-09-26 22:46:16.754912+00:00   The different Trainers available are:\\n\\n* Ba...   \n",
       "2023-09-26 22:49:30.055570+00:00   To connect a worker node to an existing Ray c...   \n",
       "2023-09-26 22:49:32.799948+00:00   Yes, you can use DeepSpeed with Ray Serve. Ac...   \n",
       "2023-09-26 22:56:31.481002+00:00   Sure, here's a simple assignment that you can...   \n",
       "\n",
       "                                                     event  \n",
       "timestamp                                                   \n",
       "2023-09-16 05:56:12.792456+00:00  finished streaming query  \n",
       "2023-09-16 06:04:57.823437+00:00  finished streaming query  \n",
       "2023-09-16 06:13:44.251850+00:00  finished streaming query  \n",
       "2023-09-16 06:14:15.046320+00:00  finished streaming query  \n",
       "2023-09-16 06:14:31.911983+00:00  finished streaming query  \n",
       "...                                                    ...  \n",
       "2023-09-26 22:39:06.602940+00:00  finished streaming query  \n",
       "2023-09-26 22:46:16.754912+00:00  finished streaming query  \n",
       "2023-09-26 22:49:30.055570+00:00  finished streaming query  \n",
       "2023-09-26 22:49:32.799948+00:00  finished streaming query  \n",
       "2023-09-26 22:56:31.481002+00:00  finished streaming query  \n",
       "\n",
       "[230 rows x 5 columns]"
      ]
     },
     "execution_count": 15,
     "metadata": {},
     "output_type": "execute_result"
    }
   ],
   "source": [
    "df"
   ]
  },
  {
   "cell_type": "code",
   "execution_count": 16,
   "metadata": {},
   "outputs": [
    {
     "data": {
      "image/png": "[encoded data removed]",
      "text/plain": [
       "<Figure size 640x480 with 1 Axes>"
      ]
     },
     "metadata": {},
     "output_type": "display_data"
    }
   ],
   "source": [
    "import matplotlib.pyplot as plt\n",
    "\n",
    "# Resample the DataFrame by week and count the number of data points\n",
    "weekly_counts = df.resample('W').size()\n",
    "\n",
    "# Plot the bar chart\n",
    "weekly_counts.plot(kind='bar')\n",
    "\n",
    "# Customize the plot\n",
    "plt.title('Number of Data Points Per Week')\n",
    "plt.xlabel('Week')\n",
    "plt.ylabel('Number of Data Points')\n",
    "\n",
    "# Show the plot\n",
    "plt.show()"
   ]
  },
  {
   "cell_type": "code",
   "execution_count": 19,
   "metadata": {},
   "outputs": [
    {
     "data": {
      "text/plain": [
       "63"
      ]
     },
     "execution_count": 19,
     "metadata": {},
     "output_type": "execute_result"
    }
   ],
   "source": [
    "(df[\"llm\"] == \"gpt-4\").sum()"
   ]
  },
  {
   "cell_type": "markdown",
   "metadata": {},
   "source": [
    "## Investigate retrieved contexts for each request"
   ]
  },
  {
   "cell_type": "code",
   "execution_count": 2,
   "metadata": {},
   "outputs": [],
   "source": [
    "import psycopg\n",
    "\n",
    "def retrieve_document(document_id):\n",
    "    with psycopg.connect(os.environ[\"DB_CONNECTION_STRING\"]) as conn:\n",
    "        with conn.cursor() as cur:\n",
    "            cur.execute(\"SELECT * FROM document WHERE id = %s\", (document_id,))\n",
    "            row = cur.fetchone()\n",
    "            return {\"document_id\": document_id, \"text\": row[1], \"source\": row[2]}"
   ]
  },
  {
   "cell_type": "code",
   "execution_count": 3,
   "metadata": {},
   "outputs": [
    {
     "ename": "NameError",
     "evalue": "name 'df' is not defined",
     "output_type": "error",
     "traceback": [
      "\u001b[0;31m---------------------------------------------------------------------------\u001b[0m",
      "\u001b[0;31mNameError\u001b[0m                                 Traceback (most recent call last)",
      "Cell \u001b[0;32mIn[3], line 2\u001b[0m\n\u001b[1;32m      1\u001b[0m idx \u001b[38;5;241m=\u001b[39m \u001b[38;5;241m-\u001b[39m\u001b[38;5;241m10\u001b[39m\n\u001b[0;32m----> 2\u001b[0m \u001b[38;5;28mprint\u001b[39m(\u001b[38;5;124m\"\u001b[39m\u001b[38;5;124mquery:\u001b[39m\u001b[38;5;124m\"\u001b[39m, \u001b[43mdf\u001b[49m\u001b[38;5;241m.\u001b[39miloc[idx][\u001b[38;5;124m\"\u001b[39m\u001b[38;5;124mquery\u001b[39m\u001b[38;5;124m\"\u001b[39m])\n\u001b[1;32m      3\u001b[0m \u001b[38;5;28;01mfor\u001b[39;00m document_id \u001b[38;5;129;01min\u001b[39;00m df\u001b[38;5;241m.\u001b[39miloc[idx][\u001b[38;5;124m\"\u001b[39m\u001b[38;5;124mdocument_ids\u001b[39m\u001b[38;5;124m\"\u001b[39m]:\n\u001b[1;32m      4\u001b[0m     \u001b[38;5;28mprint\u001b[39m(retrieve_document(document_id))\n",
      "\u001b[0;31mNameError\u001b[0m: name 'df' is not defined"
     ]
    }
   ],
   "source": [
    "idx = -10\n",
    "print(\"query:\", df.iloc[idx][\"query\"])\n",
    "for document_id in df.iloc[idx][\"document_ids\"]:\n",
    "    print(retrieve_document(document_id))"
   ]
  },
  {
   "cell_type": "code",
   "execution_count": 50,
   "metadata": {},
   "outputs": [
    {
     "data": {
      "text/plain": [
       "{'5eca6f77730454941af1e972119557fcfaa426088caf75817b687ae633f0d821': {'document_id': 474,\n",
       "  'text': 'will limit the size of the object store.\\nYou should now see a prompt that looks something like:\\nroot@ebc78f68d100:/ray#',\n",
       "  'source': 'https://docs.ray.io/en/master/installation.html#launch-ray-in-docker'},\n",
       " 'cc9b3abb3fa5722008193d9af058dcd3db7e3ff2cdcda1f4118a3dd02625d613': {'document_id': 4144,\n",
       "  'text': 'Object store memory: memory used when your application creates objects in the object store via ray.put and when it returns values from remote functions. Objects are reference counted and evicted when they fall out of scope. An object store server runs on each node. By default, when starting an instance, Ray reserves 30% of available memory. The size of the object store can be controlled by –object-store-memory. The memory is by default allocated to /dev/shm (shared memory) for Linux. For MacOS, Ray uses /tmp (disk), which can impact the performance compared to Linux. In Ray 1.3+, objects are spilled to disk if the object store fills up.',\n",
       "  'source': 'https://docs.ray.io/en/master/ray-core/scheduling/memory-management.html#concepts'},\n",
       " 'f53cb64313c87f50f52cf1369de3348c7c6ea913d6530f074d3e7a7296b631e1': {'document_id': 11648,\n",
       "  'text': '},\\n            \"memory\": {\\n               \"title\": \"Memory\",\\n               \"description\": \"Restrict the heap memory usage of each replica. Uses a default if null.\",\\n               \"minimum\": 0,\\n               \"type\": \"number\"\\n            },\\n            \"object_store_memory\": {\\n               \"title\": \"Object Store Memory\",\\n               \"description\": \"Restrict the object store memory used per replica when creating objects. Uses a default if null.\",\\n               \"minimum\": 0,\\n               \"type\": \"number\"\\n            },\\n            \"resources\": {\\n               \"title\": \"Resources\",\\n               \"description\": \"The custom resources required by each replica.\",\\n               \"default\": {},\\n               \"type\": \"object\"\\n            },\\n            \"accelerator_type\": {\\n               \"title\": \"Accelerator Type\",',\n",
       "  'source': 'https://docs.ray.io/en/master/serve/api/doc/ray.serve.schema.ServeInstanceDetails.html#ray-serve-schema-serveinstancedetails'}}"
      ]
     },
     "execution_count": 50,
     "metadata": {},
     "output_type": "execute_result"
    }
   ],
   "source": []
  },
  {
   "cell_type": "code",
   "execution_count": 4,
   "metadata": {},
   "outputs": [],
   "source": [
    "import pandas as pd\n",
    "df = pd.read_csv(\"../tags.csv\")"
   ]
  },
  {
   "cell_type": "code",
   "execution_count": 5,
   "metadata": {},
   "outputs": [
    {
     "data": {
      "text/html": [
       "<div>\n",
       "<style scoped>\n",
       "    .dataframe tbody tr th:only-of-type {\n",
       "        vertical-align: middle;\n",
       "    }\n",
       "\n",
       "    .dataframe tbody tr th {\n",
       "        vertical-align: top;\n",
       "    }\n",
       "\n",
       "    .dataframe thead th {\n",
       "        text-align: right;\n",
       "    }\n",
       "</style>\n",
       "<table border=\"1\" class=\"dataframe\">\n",
       "  <thead>\n",
       "    <tr style=\"text-align: right;\">\n",
       "      <th></th>\n",
       "      <th>post_id</th>\n",
       "      <th>post_content</th>\n",
       "      <th>category_name</th>\n",
       "    </tr>\n",
       "  </thead>\n",
       "  <tbody>\n",
       "    <tr>\n",
       "      <th>0</th>\n",
       "      <td>345</td>\n",
       "      <td>(post withdrawn by author, will be automatical...</td>\n",
       "      <td>RLlib</td>\n",
       "    </tr>\n",
       "    <tr>\n",
       "      <th>1</th>\n",
       "      <td>23438</td>\n",
       "      <td>&lt;!-- Answering the following question will gre...</td>\n",
       "      <td>Ray Tune</td>\n",
       "    </tr>\n",
       "    <tr>\n",
       "      <th>2</th>\n",
       "      <td>9804</td>\n",
       "      <td>Hi @TheExGenesis,\\n\\nPerhaps  this will be ava...</td>\n",
       "      <td>RLlib</td>\n",
       "    </tr>\n",
       "    <tr>\n",
       "      <th>3</th>\n",
       "      <td>3126</td>\n",
       "      <td>cc @simon-mo don't you have a way to see the p...</td>\n",
       "      <td>Ray Core</td>\n",
       "    </tr>\n",
       "    <tr>\n",
       "      <th>4</th>\n",
       "      <td>5395</td>\n",
       "      <td>This works, thanks a lot @Dmitri</td>\n",
       "      <td>Kubernetes</td>\n",
       "    </tr>\n",
       "    <tr>\n",
       "      <th>...</th>\n",
       "      <td>...</td>\n",
       "      <td>...</td>\n",
       "      <td>...</td>\n",
       "    </tr>\n",
       "    <tr>\n",
       "      <th>22947</th>\n",
       "      <td>29612</td>\n",
       "      <td>&lt;!-- Answering the following question will gre...</td>\n",
       "      <td>Ray Core</td>\n",
       "    </tr>\n",
       "    <tr>\n",
       "      <th>22948</th>\n",
       "      <td>29786</td>\n",
       "      <td>Hello,\\n\\nIf by the working script you mean th...</td>\n",
       "      <td>RLlib</td>\n",
       "    </tr>\n",
       "    <tr>\n",
       "      <th>22949</th>\n",
       "      <td>30574</td>\n",
       "      <td>Maybe take a look at this PR which is trying t...</td>\n",
       "      <td>Dashboard</td>\n",
       "    </tr>\n",
       "    <tr>\n",
       "      <th>22950</th>\n",
       "      <td>30594</td>\n",
       "      <td>Oh that might be it! It was failing cause I ha...</td>\n",
       "      <td>Dashboard</td>\n",
       "    </tr>\n",
       "    <tr>\n",
       "      <th>22951</th>\n",
       "      <td>30680</td>\n",
       "      <td>&lt;!-- Answering the following question will gre...</td>\n",
       "      <td>RLlib</td>\n",
       "    </tr>\n",
       "  </tbody>\n",
       "</table>\n",
       "<p>22868 rows × 3 columns</p>\n",
       "</div>"
      ],
      "text/plain": [
       "       post_id                                       post_content  \\\n",
       "0          345  (post withdrawn by author, will be automatical...   \n",
       "1        23438  <!-- Answering the following question will gre...   \n",
       "2         9804  Hi @TheExGenesis,\\n\\nPerhaps  this will be ava...   \n",
       "3         3126  cc @simon-mo don't you have a way to see the p...   \n",
       "4         5395                   This works, thanks a lot @Dmitri   \n",
       "...        ...                                                ...   \n",
       "22947    29612  <!-- Answering the following question will gre...   \n",
       "22948    29786  Hello,\\n\\nIf by the working script you mean th...   \n",
       "22949    30574  Maybe take a look at this PR which is trying t...   \n",
       "22950    30594  Oh that might be it! It was failing cause I ha...   \n",
       "22951    30680  <!-- Answering the following question will gre...   \n",
       "\n",
       "      category_name  \n",
       "0             RLlib  \n",
       "1          Ray Tune  \n",
       "2             RLlib  \n",
       "3          Ray Core  \n",
       "4        Kubernetes  \n",
       "...             ...  \n",
       "22947      Ray Core  \n",
       "22948         RLlib  \n",
       "22949     Dashboard  \n",
       "22950     Dashboard  \n",
       "22951         RLlib  \n",
       "\n",
       "[22868 rows x 3 columns]"
      ]
     },
     "execution_count": 5,
     "metadata": {},
     "output_type": "execute_result"
    }
   ],
   "source": [
    "filtered_df = df[pd.notnull(df['post_content'])]\n",
    "filtered_df"
   ]
  },
  {
   "cell_type": "code",
   "execution_count": 6,
   "metadata": {},
   "outputs": [
    {
     "data": {
      "text/plain": [
       "{'Configure Algorithm, Training, Evaluation, Scaling',\n",
       " 'Dashboard',\n",
       " 'Kubernetes',\n",
       " 'Monitoring & Debugging',\n",
       " 'RLlib',\n",
       " 'Ray Client',\n",
       " 'Ray Clusters',\n",
       " 'Ray Core',\n",
       " 'Ray Data',\n",
       " 'Ray Libraries (Data, Train, Tune, Serve)',\n",
       " 'Ray Serve',\n",
       " 'Ray Train',\n",
       " 'Ray Tune',\n",
       " 'Uncategorized'}"
      ]
     },
     "execution_count": 6,
     "metadata": {},
     "output_type": "execute_result"
    }
   ],
   "source": [
    "# Remove uncommon classes\n",
    "common_categories = set(filtered_df[\"category_name\"].value_counts().keys()[:14])\n",
    "filtered_df = filtered_df[filtered_df[\"category_name\"].isin(common_categories)]\n",
    "common_categories"
   ]
  },
  {
   "cell_type": "code",
   "execution_count": 39,
   "metadata": {},
   "outputs": [],
   "source": [
    "sources_map = {\n",
    "    \"Ray Core\": [\"ray-core\"],\n",
    "    \"Ray Data\": [\"data\"],\n",
    "    \"Ray Train\": [\"train\"],\n",
    "    \"Ray Tune\": [\"tune\"],\n",
    "    \"Ray Serve\": [\"serve\"],\n",
    "    \"RLlib\": [\"rllib\"],\n",
    "    \"Ray Libraries (Data, Train, Tune, Serve)\": [\"data\", \"train\", \"tune\", \"serve\"],\n",
    "    \"Ray Clusters\": [\"cluster\"],\n",
    "    \"Dashboard\": [\"ray-observability\"],\n",
    "}"
   ]
  },
  {
   "cell_type": "code",
   "execution_count": 8,
   "metadata": {},
   "outputs": [
    {
     "name": "stdout",
     "output_type": "stream",
     "text": [
      "RUNNING THE L-BFGS-B CODE\n",
      "\n",
      "           * * *\n",
      "\n",
      "Machine precision = 2.220D-16\n",
      " N =      1047214     M =           10\n",
      "\n",
      "At X0         0 variables are exactly at the bounds\n",
      "\n",
      "At iterate    0    f=  5.95635D+04    |proj g|=  5.40486D+03\n"
     ]
    },
    {
     "name": "stderr",
     "output_type": "stream",
     "text": [
      " This problem is unconstrained.\n"
     ]
    },
    {
     "name": "stdout",
     "output_type": "stream",
     "text": [
      "\n",
      "At iterate   50    f=  2.70723D+04    |proj g|=  4.15506D+01\n",
      "\n",
      "At iterate  100    f=  2.65891D+04    |proj g|=  1.61022D+01\n",
      "\n",
      "At iterate  150    f=  2.65813D+04    |proj g|=  1.40428D+00\n",
      "\n",
      "At iterate  200    f=  2.65811D+04    |proj g|=  2.20364D-01\n",
      "\n",
      "           * * *\n",
      "\n",
      "Tit   = total number of iterations\n",
      "Tnf   = total number of function evaluations\n",
      "Tnint = total number of segments explored during Cauchy searches\n",
      "Skip  = number of BFGS updates skipped\n",
      "Nact  = number of active bounds at final generalized Cauchy point\n",
      "Projg = norm of the final projected gradient\n",
      "F     = final function value\n",
      "\n",
      "           * * *\n",
      "\n",
      "   N    Tit     Tnf  Tnint  Skip  Nact     Projg        F\n",
      "*****    204    216      1     0     0   9.998D-02   2.658D+04\n",
      "  F =   26581.131930177289     \n",
      "\n",
      "CONVERGENCE: REL_REDUCTION_OF_F_<=_FACTR*EPSMCH             \n"
     ]
    },
    {
     "data": {
      "text/html": [
       "<style>#sk-container-id-1 {color: black;}#sk-container-id-1 pre{padding: 0;}#sk-container-id-1 div.sk-toggleable {background-color: white;}#sk-container-id-1 label.sk-toggleable__label {cursor: pointer;display: block;width: 100%;margin-bottom: 0;padding: 0.3em;box-sizing: border-box;text-align: center;}#sk-container-id-1 label.sk-toggleable__label-arrow:before {content: \"▸\";float: left;margin-right: 0.25em;color: #696969;}#sk-container-id-1 label.sk-toggleable__label-arrow:hover:before {color: black;}#sk-container-id-1 div.sk-estimator:hover label.sk-toggleable__label-arrow:before {color: black;}#sk-container-id-1 div.sk-toggleable__content {max-height: 0;max-width: 0;overflow: hidden;text-align: left;background-color: #f0f8ff;}#sk-container-id-1 div.sk-toggleable__content pre {margin: 0.2em;color: black;border-radius: 0.25em;background-color: #f0f8ff;}#sk-container-id-1 input.sk-toggleable__control:checked~div.sk-toggleable__content {max-height: 200px;max-width: 100%;overflow: auto;}#sk-container-id-1 input.sk-toggleable__control:checked~label.sk-toggleable__label-arrow:before {content: \"▾\";}#sk-container-id-1 div.sk-estimator input.sk-toggleable__control:checked~label.sk-toggleable__label {background-color: #d4ebff;}#sk-container-id-1 div.sk-label input.sk-toggleable__control:checked~label.sk-toggleable__label {background-color: #d4ebff;}#sk-container-id-1 input.sk-hidden--visually {border: 0;clip: rect(1px 1px 1px 1px);clip: rect(1px, 1px, 1px, 1px);height: 1px;margin: -1px;overflow: hidden;padding: 0;position: absolute;width: 1px;}#sk-container-id-1 div.sk-estimator {font-family: monospace;background-color: #f0f8ff;border: 1px dotted black;border-radius: 0.25em;box-sizing: border-box;margin-bottom: 0.5em;}#sk-container-id-1 div.sk-estimator:hover {background-color: #d4ebff;}#sk-container-id-1 div.sk-parallel-item::after {content: \"\";width: 100%;border-bottom: 1px solid gray;flex-grow: 1;}#sk-container-id-1 div.sk-label:hover label.sk-toggleable__label {background-color: #d4ebff;}#sk-container-id-1 div.sk-serial::before {content: \"\";position: absolute;border-left: 1px solid gray;box-sizing: border-box;top: 0;bottom: 0;left: 50%;z-index: 0;}#sk-container-id-1 div.sk-serial {display: flex;flex-direction: column;align-items: center;background-color: white;padding-right: 0.2em;padding-left: 0.2em;position: relative;}#sk-container-id-1 div.sk-item {position: relative;z-index: 1;}#sk-container-id-1 div.sk-parallel {display: flex;align-items: stretch;justify-content: center;background-color: white;position: relative;}#sk-container-id-1 div.sk-item::before, #sk-container-id-1 div.sk-parallel-item::before {content: \"\";position: absolute;border-left: 1px solid gray;box-sizing: border-box;top: 0;bottom: 0;left: 50%;z-index: -1;}#sk-container-id-1 div.sk-parallel-item {display: flex;flex-direction: column;z-index: 1;position: relative;background-color: white;}#sk-container-id-1 div.sk-parallel-item:first-child::after {align-self: flex-end;width: 50%;}#sk-container-id-1 div.sk-parallel-item:last-child::after {align-self: flex-start;width: 50%;}#sk-container-id-1 div.sk-parallel-item:only-child::after {width: 0;}#sk-container-id-1 div.sk-dashed-wrapped {border: 1px dashed gray;margin: 0 0.4em 0.5em 0.4em;box-sizing: border-box;padding-bottom: 0.4em;background-color: white;}#sk-container-id-1 div.sk-label label {font-family: monospace;font-weight: bold;display: inline-block;line-height: 1.2em;}#sk-container-id-1 div.sk-label-container {text-align: center;}#sk-container-id-1 div.sk-container {/* jupyter's `normalize.less` sets `[hidden] { display: none; }` but bootstrap.min.css set `[hidden] { display: none !important; }` so we also need the `!important` here to be able to override the default hidden behavior on the sphinx rendered scikit-learn.org. See: https://github.com/scikit-learn/scikit-learn/issues/21755 */display: inline-block !important;position: relative;}#sk-container-id-1 div.sk-text-repr-fallback {display: none;}</style><div id=\"sk-container-id-1\" class=\"sk-top-container\"><div class=\"sk-text-repr-fallback\"><pre>Pipeline(steps=[(&#x27;vectorizer&#x27;, TfidfVectorizer()),\n",
       "                (&#x27;classifier&#x27;,\n",
       "                 LogisticRegression(max_iter=1000, multi_class=&#x27;multinomial&#x27;,\n",
       "                                    verbose=1))])</pre><b>In a Jupyter environment, please rerun this cell to show the HTML representation or trust the notebook. <br />On GitHub, the HTML representation is unable to render, please try loading this page with nbviewer.org.</b></div><div class=\"sk-container\" hidden><div class=\"sk-item sk-dashed-wrapped\"><div class=\"sk-label-container\"><div class=\"sk-label sk-toggleable\"><input class=\"sk-toggleable__control sk-hidden--visually\" id=\"sk-estimator-id-1\" type=\"checkbox\" ><label for=\"sk-estimator-id-1\" class=\"sk-toggleable__label sk-toggleable__label-arrow\">Pipeline</label><div class=\"sk-toggleable__content\"><pre>Pipeline(steps=[(&#x27;vectorizer&#x27;, TfidfVectorizer()),\n",
       "                (&#x27;classifier&#x27;,\n",
       "                 LogisticRegression(max_iter=1000, multi_class=&#x27;multinomial&#x27;,\n",
       "                                    verbose=1))])</pre></div></div></div><div class=\"sk-serial\"><div class=\"sk-item\"><div class=\"sk-estimator sk-toggleable\"><input class=\"sk-toggleable__control sk-hidden--visually\" id=\"sk-estimator-id-2\" type=\"checkbox\" ><label for=\"sk-estimator-id-2\" class=\"sk-toggleable__label sk-toggleable__label-arrow\">TfidfVectorizer</label><div class=\"sk-toggleable__content\"><pre>TfidfVectorizer()</pre></div></div></div><div class=\"sk-item\"><div class=\"sk-estimator sk-toggleable\"><input class=\"sk-toggleable__control sk-hidden--visually\" id=\"sk-estimator-id-3\" type=\"checkbox\" ><label for=\"sk-estimator-id-3\" class=\"sk-toggleable__label sk-toggleable__label-arrow\">LogisticRegression</label><div class=\"sk-toggleable__content\"><pre>LogisticRegression(max_iter=1000, multi_class=&#x27;multinomial&#x27;, verbose=1)</pre></div></div></div></div></div></div></div>"
      ],
      "text/plain": [
       "Pipeline(steps=[('vectorizer', TfidfVectorizer()),\n",
       "                ('classifier',\n",
       "                 LogisticRegression(max_iter=1000, multi_class='multinomial',\n",
       "                                    verbose=1))])"
      ]
     },
     "execution_count": 8,
     "metadata": {},
     "output_type": "execute_result"
    }
   ],
   "source": [
    "from sklearn.feature_extraction.text import TfidfVectorizer\n",
    "from sklearn.linear_model import LogisticRegression\n",
    "from sklearn.pipeline import Pipeline\n",
    "\n",
    "# Train classifier\n",
    "classifier = Pipeline([\n",
    "    (\"vectorizer\", TfidfVectorizer()),\n",
    "    (\"classifier\", LogisticRegression(multi_class=\"multinomial\", max_iter=1000, verbose=1))\n",
    "])\n",
    "classifier.fit(filtered_df[\"post_content\"], filtered_df[\"category_name\"])"
   ]
  },
  {
   "cell_type": "code",
   "execution_count": 26,
   "metadata": {},
   "outputs": [
    {
     "name": "stdout",
     "output_type": "stream",
     "text": [
      "How do I implement logging of custom metrics with every training step? : RLlib\n",
      "how to run TorchTrainer on gpu? : Ray Libraries (Data, Train, Tune, Serve)\n",
      "can i increment the object store memory size : Ray Core\n",
      "how to install all ray dependencies at once : Ray Core\n",
      "how to autoscale on-prem cluster : Ray Clusters\n",
      "how to serve code-llama : Ray Serve\n",
      "I used `from ray import train` and now it raises an AttributeError: module 'ray.train' has no attribute 'torch' : Ray Train\n",
      "what is ray used for : Ray Core\n",
      "I am planning to take control of the world : RLlib\n",
      "Could you give an example of a detachable actor in Ray? : Ray Core\n",
      "how to rename columns in ray dataset : Ray Data\n",
      "What's the difference between a task and a job? : Ray Core\n",
      "How can I train an llm using ray? : Ray Train\n",
      "how to change num blocks in dataset : Ray Data\n",
      "what is the difference between ray up and ray start : Ray Core\n",
      "how can I spin up a heterogeneous cluster? Meaning i want to have a ray cluster with both cpu instance and gpu instance : Ray Core\n",
      "can I specify a SPREAD scheduling strategy on serve deployments : Ray Serve\n",
      "prepare_trainer : Ray Core\n",
      "what is the newest version of ray : Ray Core\n",
      "what is driver process? : Ray Core\n",
      "I have a Ray Serve Application object. How do I query it? : Ray Serve\n",
      "what GCS stores? : Ray Core\n",
      "what is ray head service? : Kubernetes\n",
      "cluster wide max workers : Ray Core\n",
      "How to manually start a ray serve instance for a head node on remote server : Ray Serve\n",
      "if I submit a task, and there is no resource, will it be pending? if so, it will wait in gcs? : Ray Core\n",
      "how to train model on gpu? : Ray Train\n",
      "can i increment the object store memory size : Ray Core\n",
      "How can I run model training on local cluster? : Ray Train\n",
      "how does LLM sharded? : Ray Core\n",
      "ray cluster overview : Ray Core\n",
      "how to install all ray dependencies at once : Ray Core\n",
      "how ray serve to serve model from hugging face : Ray Serve\n",
      "what are the different Trainers available? : RLlib\n",
      "can I use deepspeed with ray serve? : Ray Serve\n",
      "Can you give assignment on Ray serve for basic understanding : Ray Serve\n",
      "connect worker to already existing cluster : Kubernetes\n",
      "How can I set the search algorithm using a tune.Tuner? : Ray Libraries (Data, Train, Tune, Serve)\n",
      "How does Ray know how many GPUs a node has? : Ray Core\n"
     ]
    }
   ],
   "source": [
    "questions = \"\"\"How do I implement logging of custom metrics with every training step?\n",
    "how to run TorchTrainer on gpu?\n",
    "can i increment the object store memory size\n",
    "how to install all ray dependencies at once\n",
    "how to autoscale on-prem cluster\n",
    "how to serve code-llama\n",
    "I used `from ray import train` and now it raises an AttributeError: module 'ray.train' has no attribute 'torch'\n",
    "what is ray used for\n",
    "I am planning to take control of the world\n",
    "Could you give an example of a detachable actor in Ray?\n",
    "how to rename columns in ray dataset\n",
    "What's the difference between a task and a job?\n",
    "How can I train an llm using ray?\n",
    "how to change num blocks in dataset\n",
    "what is the difference between ray up and ray start\n",
    "how can I spin up a heterogeneous cluster? Meaning i want to have a ray cluster with both cpu instance and gpu instance\n",
    "can I specify a SPREAD scheduling strategy on serve deployments\n",
    "prepare_trainer\n",
    "what is the newest version of ray\n",
    "what is driver process?\n",
    "I have a Ray Serve Application object. How do I query it?\n",
    "what GCS stores?\n",
    "what is ray head service?\n",
    "cluster wide max workers\n",
    "How to manually start a ray serve instance for a head node on remote server\n",
    "if I submit a task, and there is no resource, will it be pending? if so, it will wait in gcs?\n",
    "how to train model on gpu?\n",
    "can i increment the object store memory size\n",
    "How can I run model training on local cluster?\n",
    "how does LLM sharded?\n",
    "ray cluster overview\n",
    "how to install all ray dependencies at once\n",
    "how ray serve to serve model from hugging face\n",
    "what are the different Trainers available?\n",
    "can I use deepspeed with ray serve?\n",
    "Can you give assignment on Ray serve for basic understanding\n",
    "connect worker to already existing cluster\n",
    "How can I set the search algorithm using a tune.Tuner?\n",
    "How does Ray know how many GPUs a node has?\"\"\".split(\"\\n\")\n",
    "\n",
    "preds = classifier.predict(questions)\n",
    "\n",
    "for i in range(len(preds)):\n",
    "    print(questions[i], \":\", preds[i])"
   ]
  },
  {
   "cell_type": "code",
   "execution_count": 9,
   "metadata": {},
   "outputs": [
    {
     "ename": "ModuleNotFoundError",
     "evalue": "No module named 'rag'",
     "output_type": "error",
     "traceback": [
      "\u001b[0;31m---------------------------------------------------------------------------\u001b[0m",
      "\u001b[0;31mModuleNotFoundError\u001b[0m                       Traceback (most recent call last)",
      "Cell \u001b[0;32mIn[9], line 2\u001b[0m\n\u001b[1;32m      1\u001b[0m \u001b[38;5;28;01mimport\u001b[39;00m \u001b[38;5;21;01mjson\u001b[39;00m\n\u001b[0;32m----> 2\u001b[0m \u001b[38;5;28;01mfrom\u001b[39;00m \u001b[38;5;21;01mrag\u001b[39;00m\u001b[38;5;21;01m.\u001b[39;00m\u001b[38;5;21;01mgenerate\u001b[39;00m \u001b[38;5;28;01mimport\u001b[39;00m QueryAgent\n\u001b[1;32m      3\u001b[0m \u001b[38;5;28;01mfrom\u001b[39;00m \u001b[38;5;21;01mrag\u001b[39;00m\u001b[38;5;21;01m.\u001b[39;00m\u001b[38;5;21;01mgenerate\u001b[39;00m \u001b[38;5;28;01mimport\u001b[39;00m get_sources_and_context\n\u001b[1;32m      5\u001b[0m embedding_model_name\u001b[38;5;241m=\u001b[39m\u001b[38;5;124m\"\u001b[39m\u001b[38;5;124mthenlper/gte-large\u001b[39m\u001b[38;5;124m\"\u001b[39m\n",
      "\u001b[0;31mModuleNotFoundError\u001b[0m: No module named 'rag'"
     ]
    }
   ],
   "source": [
    "import json\n",
    "from rag.generate import QueryAgent\n",
    "from rag.generate import get_sources_and_context\n",
    "\n",
    "embedding_model_name=\"thenlper/gte-large\"\n",
    "llm=\"meta-llama/Llama-2-70b-chat-hf\"\n",
    "query = \"What is the default batch size for map_batches?\"\n",
    "system_content = \"Answer the query using the context provided. Be succinct.\"\n",
    "agent = QueryAgent(\n",
    "    embedding_model_name=embedding_model_name,\n",
    "    llm=llm,\n",
    "    max_context_length=4096,\n",
    "    system_content=system_content)\n",
    "result = agent(query=query, stream=False)\n",
    "print(\"\\n\\n\", json.dumps(result, indent=2))"
   ]
  },
  {
   "cell_type": "code",
   "execution_count": 30,
   "metadata": {},
   "outputs": [
    {
     "data": {
      "text/plain": [
       "array(['Ray Libraries (Data, Train, Tune, Serve)'], dtype=object)"
      ]
     },
     "execution_count": 30,
     "metadata": {},
     "output_type": "execute_result"
    }
   ],
   "source": [
    "query = \"how to run TorchTrainer on gpu?\"\n",
    "document_ids, sources, context = get_sources_and_context(\n",
    "            query=query, embedding_model=agent.embedding_model, num_chunks=10\n",
    "        )\n",
    "# preds = classifier.predict_proba([query])\n",
    "# list(zip(classifier.classes_, preds[0]))\n",
    "preds = classifier.predict([query])\n",
    "\n",
    "preds"
   ]
  },
  {
   "cell_type": "code",
   "execution_count": 10,
   "metadata": {},
   "outputs": [],
   "source": [
    "import hashlib\n",
    "import urllib.parse\n",
    "\n",
    "# Ranking algorithm:\n",
    "# 1) Dedupe\n",
    "# 2) Remove one line contexts\n",
    "# 3) Keep the documents with the right topic\n",
    "\n",
    "class RankerByCategory:\n",
    "    def __init__(self, classifier):\n",
    "        self.classifier = classifier\n",
    "\n",
    "    def rank(self, query, documents):\n",
    "        # First deduplicate the documents, using the shortest URL as the canonical source\n",
    "        unique_docs = {}\n",
    "        for document in documents:\n",
    "            h = hashlib.sha256(document[\"text\"].encode()).hexdigest()\n",
    "            if h not in unique_docs:\n",
    "                unique_docs[h] = document\n",
    "            elif len(document[\"source\"]) < len(unique_docs[h][\"source\"]):\n",
    "                unique_docs[h] = document\n",
    "\n",
    "        category, = self.classifier.predict([query])\n",
    "        print(\"ranker: using category\", category)\n",
    "        results = []\n",
    "        for h, doc in unique_docs.items():\n",
    "            url = urllib.parse.urlparse(doc[\"source\"])\n",
    "            c = url.path.split(\"/\")[3]\n",
    "            if c in sources_map[category]:\n",
    "                results.append(doc)\n",
    "\n",
    "        return results\n",
    "\n",
    "ranker = RankerByCategory(classifier)\n",
    "\n",
    "# documents = []\n",
    "# for document_id in document_ids:\n",
    "#     documents.append(retrieve_document(document_id))\n",
    "# ranker.rank(query, documents)"
   ]
  },
  {
   "cell_type": "code",
   "execution_count": 46,
   "metadata": {},
   "outputs": [
    {
     "name": "stdout",
     "output_type": "stream",
     "text": [
      "ranker: using category Ray Tune\n",
      " Sure, here's a succinct answer to the query \"logging with wandb\" in the context provided:\n",
      "\n",
      "You can use the `WandbLoggerCallback` class from the `ray.air.integrations.wandb` module to log metrics to Wandb. This class takes various options such as project, group, api_key_file, api_key, excludes, log_config, upload_checkpoints, save_checkpoints, and upload_timeout. You can also use the `setup_wandb` function to configure Wandb for use with Tune.\n"
     ]
    }
   ],
   "source": [
    "import rag\n",
    "\n",
    "# import importlib\n",
    "# importlib.reload(rag.generate)\n",
    "\n",
    "import json\n",
    "from rag.generate import QueryAgent\n",
    "from rag.generate import get_sources_and_context\n",
    "\n",
    "embedding_model_name=\"thenlper/gte-large\"\n",
    "llm=\"meta-llama/Llama-2-70b-chat-hf\"\n",
    "query = \"logging with wandb\"\n",
    "system_content = \"Answer the query using the context provided. Be succinct.\"\n",
    "agent = QueryAgent(\n",
    "    embedding_model_name=embedding_model_name,\n",
    "    llm=llm,\n",
    "    max_context_length=4096,\n",
    "    system_content=system_content,\n",
    "    ranker=ranker)\n",
    "result = agent(query=query, stream=False)\n",
    "# print(\"\\n\\n\", json.dumps(result, indent=2))\n",
    "print(result[\"answer\"])"
   ]
  }
 ],
 "metadata": {
  "language_info": {
   "name": "python"
  },
  "orig_nbformat": 4
 },
 "nbformat": 4,
 "nbformat_minor": 2
}
