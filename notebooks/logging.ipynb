{
 "cells": [
  {
   "cell_type": "code",
   "execution_count": 22,
   "metadata": {},
   "outputs": [
    {
     "data": {
      "text/plain": [
       "True"
      ]
     },
     "execution_count": 22,
     "metadata": {},
     "output_type": "execute_result"
    }
   ],
   "source": [
    "from dotenv import load_dotenv; load_dotenv()"
   ]
  },
  {
   "cell_type": "markdown",
   "metadata": {},
   "source": [
    "# Operational Aspects of the RAG Application\n",
    "\n",
    "## Logging requests\n",
    "\n",
    "In order to improve the performance of the RAG application it is crucial that we log each request so we can study what to improve. To make parsing of the data easier, we use the Python `structlog` package. First we need to configure the logging, which happens in `rag/serve.py`. We are storing the logs in a network file system, configured via the `RAY_ASSISTANT_LOGS` environment variable and make sure a timestamp is written for each log line. The logs are then rendered as JSON lines and written to the log file:\n",
    "\n",
    "```python\n",
    "# Configure logging\n",
    "logging.basicConfig(filename=os.environ[\"RAY_ASSISTANT_LOGS\"], level=logging.INFO, encoding='utf-8')\n",
    "structlog.configure(\n",
    "    processors=[\n",
    "        structlog.processors.TimeStamper(fmt=\"iso\"),\n",
    "        structlog.processors.JSONRenderer(),\n",
    "    ],\n",
    "    logger_factory=structlog.stdlib.LoggerFactory(),\n",
    ")\n",
    "logger = structlog.get_logger()\n",
    "```\n",
    "\n",
    "The actual call that records the log then looks like the following:\n",
    "\n",
    "```python\n",
    "logger.info(\n",
    "    \"finished streaming query\",\n",
    "    query=query,\n",
    "    document_ids=result[\"document_ids\"],\n",
    "    llm=result[\"llm\"],\n",
    "    answer=answer\n",
    ")\n",
    "```\n",
    "\n",
    "Depending on your application, it might make sense to add more fields to the logs -- we are logging the user's `query`, the document IDs retrieved from the database that make up the context as well as the LLM that was used for answering the query.\n",
    "\n",
    "## Evaluating the data"
   ]
  },
  {
   "cell_type": "code",
   "execution_count": 4,
   "metadata": {},
   "outputs": [],
   "source": [
    "import json\n",
    "\n",
    "records = []\n",
    "log_prefix = \"INFO:rag.serve:\"\n",
    "with open(\"/mnt/shared_storage/ray-assistant-logs/info.copy\") as f:\n",
    "    records = [json.loads(line.removeprefix(log_prefix)) for line in f if line.startswith(log_prefix)]"
   ]
  },
  {
   "cell_type": "code",
   "execution_count": 14,
   "metadata": {},
   "outputs": [],
   "source": [
    "import pandas as pd\n",
    "\n",
    "df = pd.DataFrame.from_records(records)\n",
    "df['timestamp']= pd.to_datetime(df['timestamp'])\n",
    "df.set_index('timestamp', inplace=True)"
   ]
  },
  {
   "cell_type": "code",
   "execution_count": 15,
   "metadata": {},
   "outputs": [
    {
     "data": {
      "text/html": [
       "<div>\n",
       "<style scoped>\n",
       "    .dataframe tbody tr th:only-of-type {\n",
       "        vertical-align: middle;\n",
       "    }\n",
       "\n",
       "    .dataframe tbody tr th {\n",
       "        vertical-align: top;\n",
       "    }\n",
       "\n",
       "    .dataframe thead th {\n",
       "        text-align: right;\n",
       "    }\n",
       "</style>\n",
       "<table border=\"1\" class=\"dataframe\">\n",
       "  <thead>\n",
       "    <tr style=\"text-align: right;\">\n",
       "      <th></th>\n",
       "      <th>query</th>\n",
       "      <th>document_ids</th>\n",
       "      <th>llm</th>\n",
       "      <th>answer</th>\n",
       "      <th>event</th>\n",
       "    </tr>\n",
       "    <tr>\n",
       "      <th>timestamp</th>\n",
       "      <th></th>\n",
       "      <th></th>\n",
       "      <th></th>\n",
       "      <th></th>\n",
       "      <th></th>\n",
       "    </tr>\n",
       "  </thead>\n",
       "  <tbody>\n",
       "    <tr>\n",
       "      <th>2023-09-16 05:56:12.792456+00:00</th>\n",
       "      <td>Give me a code example for creating an actor.</td>\n",
       "      <td>[3689, 9659, 3746, 11936, 3854, 4549, 3748]</td>\n",
       "      <td>gpt-4</td>\n",
       "      <td>Here is a Python code example for creating an ...</td>\n",
       "      <td>finished streaming query</td>\n",
       "    </tr>\n",
       "    <tr>\n",
       "      <th>2023-09-16 06:04:57.823437+00:00</th>\n",
       "      <td>What is Ray?</td>\n",
       "      <td>[4538, 3471, 11362, 8371, 4445, 8271, 5358]</td>\n",
       "      <td>meta-llama/Llama-2-70b-chat-hf</td>\n",
       "      <td>Ray is a framework for running arbitrary code ...</td>\n",
       "      <td>finished streaming query</td>\n",
       "    </tr>\n",
       "    <tr>\n",
       "      <th>2023-09-16 06:13:44.251850+00:00</th>\n",
       "      <td>How can I read all text files from the bucket ...</td>\n",
       "      <td>[6102, 6388, 6571, 6706, 7458, 5701, 6188]</td>\n",
       "      <td>meta-llama/Llama-2-70b-chat-hf</td>\n",
       "      <td>To read all text files from the bucket \"s3://r...</td>\n",
       "      <td>finished streaming query</td>\n",
       "    </tr>\n",
       "    <tr>\n",
       "      <th>2023-09-16 06:14:15.046320+00:00</th>\n",
       "      <td>How can I read all text files from the bucket ...</td>\n",
       "      <td>[6706, 6187, 6188, 6102, 6140, 6388, 6571]</td>\n",
       "      <td>meta-llama/Llama-2-70b-chat-hf</td>\n",
       "      <td>Sure! Here's a succinct answer to the query:\\n...</td>\n",
       "      <td>finished streaming query</td>\n",
       "    </tr>\n",
       "    <tr>\n",
       "      <th>2023-09-16 06:14:31.911983+00:00</th>\n",
       "      <td>How can I read all text files from the bucket ...</td>\n",
       "      <td>[6706, 6102, 6187, 6388, 6188, 5685, 6140]</td>\n",
       "      <td>meta-llama/Llama-2-70b-chat-hf</td>\n",
       "      <td>To read all text files from the bucket \"s3://r...</td>\n",
       "      <td>finished streaming query</td>\n",
       "    </tr>\n",
       "    <tr>\n",
       "      <th>...</th>\n",
       "      <td>...</td>\n",
       "      <td>...</td>\n",
       "      <td>...</td>\n",
       "      <td>...</td>\n",
       "      <td>...</td>\n",
       "    </tr>\n",
       "    <tr>\n",
       "      <th>2023-09-26 22:39:06.602940+00:00</th>\n",
       "      <td>how to install all ray dependencies at once\\n\\n</td>\n",
       "      <td>[4568, 8012, 3550, 640, 461]</td>\n",
       "      <td>meta-llama/Llama-2-70b-chat-hf</td>\n",
       "      <td>To install all Ray dependencies at once, you ...</td>\n",
       "      <td>finished streaming query</td>\n",
       "    </tr>\n",
       "    <tr>\n",
       "      <th>2023-09-26 22:46:16.754912+00:00</th>\n",
       "      <td>what are the different Trainers available?</td>\n",
       "      <td>[12001, 7375, 7087, 7043, 7001]</td>\n",
       "      <td>meta-llama/Llama-2-70b-chat-hf</td>\n",
       "      <td>The different Trainers available are:\\n\\n* Ba...</td>\n",
       "      <td>finished streaming query</td>\n",
       "    </tr>\n",
       "    <tr>\n",
       "      <th>2023-09-26 22:49:30.055570+00:00</th>\n",
       "      <td>connect worker to already existing cluster\\n\\n</td>\n",
       "      <td>[5248, 3980, 5270, 4430, 5355]</td>\n",
       "      <td>meta-llama/Llama-2-70b-chat-hf</td>\n",
       "      <td>To connect a worker node to an existing Ray c...</td>\n",
       "      <td>finished streaming query</td>\n",
       "    </tr>\n",
       "    <tr>\n",
       "      <th>2023-09-26 22:49:32.799948+00:00</th>\n",
       "      <td>Can I use deepspeed with ray serve?</td>\n",
       "      <td>[6992, 8091, 7008, 11051, 11362]</td>\n",
       "      <td>meta-llama/Llama-2-70b-chat-hf</td>\n",
       "      <td>Yes, you can use DeepSpeed with Ray Serve. Ac...</td>\n",
       "      <td>finished streaming query</td>\n",
       "    </tr>\n",
       "    <tr>\n",
       "      <th>2023-09-26 22:56:31.481002+00:00</th>\n",
       "      <td>Can you give assignment on Ray serve for basic...</td>\n",
       "      <td>[11362, 4538, 11052, 8390, 11608]</td>\n",
       "      <td>meta-llama/Llama-2-70b-chat-hf</td>\n",
       "      <td>Sure, here's a simple assignment that you can...</td>\n",
       "      <td>finished streaming query</td>\n",
       "    </tr>\n",
       "  </tbody>\n",
       "</table>\n",
       "<p>230 rows × 5 columns</p>\n",
       "</div>"
      ],
      "text/plain": [
       "                                                                              query  \\\n",
       "timestamp                                                                             \n",
       "2023-09-16 05:56:12.792456+00:00      Give me a code example for creating an actor.   \n",
       "2023-09-16 06:04:57.823437+00:00                                       What is Ray?   \n",
       "2023-09-16 06:13:44.251850+00:00  How can I read all text files from the bucket ...   \n",
       "2023-09-16 06:14:15.046320+00:00  How can I read all text files from the bucket ...   \n",
       "2023-09-16 06:14:31.911983+00:00  How can I read all text files from the bucket ...   \n",
       "...                                                                             ...   \n",
       "2023-09-26 22:39:06.602940+00:00    how to install all ray dependencies at once\\n\\n   \n",
       "2023-09-26 22:46:16.754912+00:00         what are the different Trainers available?   \n",
       "2023-09-26 22:49:30.055570+00:00     connect worker to already existing cluster\\n\\n   \n",
       "2023-09-26 22:49:32.799948+00:00                Can I use deepspeed with ray serve?   \n",
       "2023-09-26 22:56:31.481002+00:00  Can you give assignment on Ray serve for basic...   \n",
       "\n",
       "                                                                 document_ids  \\\n",
       "timestamp                                                                       \n",
       "2023-09-16 05:56:12.792456+00:00  [3689, 9659, 3746, 11936, 3854, 4549, 3748]   \n",
       "2023-09-16 06:04:57.823437+00:00  [4538, 3471, 11362, 8371, 4445, 8271, 5358]   \n",
       "2023-09-16 06:13:44.251850+00:00   [6102, 6388, 6571, 6706, 7458, 5701, 6188]   \n",
       "2023-09-16 06:14:15.046320+00:00   [6706, 6187, 6188, 6102, 6140, 6388, 6571]   \n",
       "2023-09-16 06:14:31.911983+00:00   [6706, 6102, 6187, 6388, 6188, 5685, 6140]   \n",
       "...                                                                       ...   \n",
       "2023-09-26 22:39:06.602940+00:00                 [4568, 8012, 3550, 640, 461]   \n",
       "2023-09-26 22:46:16.754912+00:00              [12001, 7375, 7087, 7043, 7001]   \n",
       "2023-09-26 22:49:30.055570+00:00               [5248, 3980, 5270, 4430, 5355]   \n",
       "2023-09-26 22:49:32.799948+00:00             [6992, 8091, 7008, 11051, 11362]   \n",
       "2023-09-26 22:56:31.481002+00:00            [11362, 4538, 11052, 8390, 11608]   \n",
       "\n",
       "                                                             llm  \\\n",
       "timestamp                                                          \n",
       "2023-09-16 05:56:12.792456+00:00                           gpt-4   \n",
       "2023-09-16 06:04:57.823437+00:00  meta-llama/Llama-2-70b-chat-hf   \n",
       "2023-09-16 06:13:44.251850+00:00  meta-llama/Llama-2-70b-chat-hf   \n",
       "2023-09-16 06:14:15.046320+00:00  meta-llama/Llama-2-70b-chat-hf   \n",
       "2023-09-16 06:14:31.911983+00:00  meta-llama/Llama-2-70b-chat-hf   \n",
       "...                                                          ...   \n",
       "2023-09-26 22:39:06.602940+00:00  meta-llama/Llama-2-70b-chat-hf   \n",
       "2023-09-26 22:46:16.754912+00:00  meta-llama/Llama-2-70b-chat-hf   \n",
       "2023-09-26 22:49:30.055570+00:00  meta-llama/Llama-2-70b-chat-hf   \n",
       "2023-09-26 22:49:32.799948+00:00  meta-llama/Llama-2-70b-chat-hf   \n",
       "2023-09-26 22:56:31.481002+00:00  meta-llama/Llama-2-70b-chat-hf   \n",
       "\n",
       "                                                                             answer  \\\n",
       "timestamp                                                                             \n",
       "2023-09-16 05:56:12.792456+00:00  Here is a Python code example for creating an ...   \n",
       "2023-09-16 06:04:57.823437+00:00  Ray is a framework for running arbitrary code ...   \n",
       "2023-09-16 06:13:44.251850+00:00  To read all text files from the bucket \"s3://r...   \n",
       "2023-09-16 06:14:15.046320+00:00  Sure! Here's a succinct answer to the query:\\n...   \n",
       "2023-09-16 06:14:31.911983+00:00  To read all text files from the bucket \"s3://r...   \n",
       "...                                                                             ...   \n",
       "2023-09-26 22:39:06.602940+00:00   To install all Ray dependencies at once, you ...   \n",
       "2023-09-26 22:46:16.754912+00:00   The different Trainers available are:\\n\\n* Ba...   \n",
       "2023-09-26 22:49:30.055570+00:00   To connect a worker node to an existing Ray c...   \n",
       "2023-09-26 22:49:32.799948+00:00   Yes, you can use DeepSpeed with Ray Serve. Ac...   \n",
       "2023-09-26 22:56:31.481002+00:00   Sure, here's a simple assignment that you can...   \n",
       "\n",
       "                                                     event  \n",
       "timestamp                                                   \n",
       "2023-09-16 05:56:12.792456+00:00  finished streaming query  \n",
       "2023-09-16 06:04:57.823437+00:00  finished streaming query  \n",
       "2023-09-16 06:13:44.251850+00:00  finished streaming query  \n",
       "2023-09-16 06:14:15.046320+00:00  finished streaming query  \n",
       "2023-09-16 06:14:31.911983+00:00  finished streaming query  \n",
       "...                                                    ...  \n",
       "2023-09-26 22:39:06.602940+00:00  finished streaming query  \n",
       "2023-09-26 22:46:16.754912+00:00  finished streaming query  \n",
       "2023-09-26 22:49:30.055570+00:00  finished streaming query  \n",
       "2023-09-26 22:49:32.799948+00:00  finished streaming query  \n",
       "2023-09-26 22:56:31.481002+00:00  finished streaming query  \n",
       "\n",
       "[230 rows x 5 columns]"
      ]
     },
     "execution_count": 15,
     "metadata": {},
     "output_type": "execute_result"
    }
   ],
   "source": [
    "df"
   ]
  },
  {
   "cell_type": "code",
   "execution_count": 16,
   "metadata": {},
   "outputs": [
    {
     "data": {
      "image/png": "[encoded data removed]",
      "text/plain": [
       "<Figure size 640x480 with 1 Axes>"
      ]
     },
     "metadata": {},
     "output_type": "display_data"
    }
   ],
   "source": [
    "import matplotlib.pyplot as plt\n",
    "\n",
    "# Resample the DataFrame by week and count the number of data points\n",
    "weekly_counts = df.resample('W').size()\n",
    "\n",
    "# Plot the bar chart\n",
    "weekly_counts.plot(kind='bar')\n",
    "\n",
    "# Customize the plot\n",
    "plt.title('Number of Data Points Per Week')\n",
    "plt.xlabel('Week')\n",
    "plt.ylabel('Number of Data Points')\n",
    "\n",
    "# Show the plot\n",
    "plt.show()"
   ]
  },
  {
   "cell_type": "code",
   "execution_count": 19,
   "metadata": {},
   "outputs": [
    {
     "data": {
      "text/plain": [
       "63"
      ]
     },
     "execution_count": 19,
     "metadata": {},
     "output_type": "execute_result"
    }
   ],
   "source": [
    "(df[\"llm\"] == \"gpt-4\").sum()"
   ]
  },
  {
   "cell_type": "markdown",
   "metadata": {},
   "source": [
    "## Investigate retrieved contexts for each request"
   ]
  },
  {
   "cell_type": "code",
   "execution_count": 26,
   "metadata": {},
   "outputs": [
    {
     "data": {
      "text/plain": [
       "{'text': 'No speedup#\\nYou just ran an application using Ray, but it wasn’t as fast as you expected it\\nto be. Or worse, perhaps it was slower than the serial version of the\\napplication! The most common reasons are the following.\\nNumber of cores: How many cores is Ray using? When you start Ray, it will\\ndetermine the number of CPUs on each machine with psutil.cpu_count(). Ray\\nusually will not schedule more tasks in parallel than the number of CPUs. So\\nif the number of CPUs is 4, the most you should expect is a 4x speedup.\\nPhysical versus logical CPUs: Do the machines you’re running on have fewer\\nphysical cores than logical cores? You can check the number of logical\\ncores with psutil.cpu_count() and the number of physical cores with\\npsutil.cpu_count(logical=False). This is common on a lot of machines and\\nespecially on EC2. For many workloads (especially numerical workloads), you',\n",
       " 'source': 'https://docs.ray.io/en/master/ray-observability/user-guides/debug-apps/optimize-performance.html#no-speedup'}"
      ]
     },
     "execution_count": 26,
     "metadata": {},
     "output_type": "execute_result"
    }
   ],
   "source": [
    "import psycopg\n",
    "\n",
    "def retrieve_document(document_id):\n",
    "    with psycopg.connect(os.environ[\"DB_CONNECTION_STRING\"]) as conn:\n",
    "        with conn.cursor() as cur:\n",
    "            cur.execute(\"SELECT * FROM document WHERE id = %s\", (document_id,))\n",
    "            row = cur.fetchone()\n",
    "            return {\"text\": row[1], \"source\": row[2]}"
   ]
  },
  {
   "cell_type": "code",
   "execution_count": 35,
   "metadata": {},
   "outputs": [
    {
     "name": "stdout",
     "output_type": "stream",
     "text": [
      "query Can I use deepspeed with ray serve?\n",
      "{'text': 'Running DeepSpeed with other frameworks#\\nMany deep learning frameworks have integrated with DeepSpeed, including Lightning, Transformers, Accelerate, and more. You can run all these combinations in Ray Train.\\nPlease check the below examples for more details:\\nFramework\\nExample\\n\\n\\n\\nAccelelate (User Guide)\\nFine-tune Llama-2 series models with Deepspeed, Accelerate, and Ray Train.\\n\\nTransformers (User Guide)\\nFine-tune GPT-J-6b with DeepSpeed and Hugging Face Transformers\\n\\nLightning (User Guide)\\nFine-tune vicuna-13b with DeepSpeed and PyTorch Lightning', 'source': 'https://docs.ray.io/en/master/train/deepspeed.html#running-deepspeed-with-other-frameworks'}\n",
      "{'text': '🤗 Transformers and Ray Train’s integrations allow you to easily configure and use DDP and DeepSpeed. All you need to do is specify the DeepSpeed configuration in the TrainingArguments object.\\nTip\\nThere are many DeepSpeed settings that allow you to trade-off speed for memory usage. The settings used below are tailored to the cluster setup used (16 g4dn.4xlarge nodes) and per device batch size of 16. Some things to keep in mind:', 'source': 'https://docs.ray.io/en/master/train/examples/deepspeed/gptj_deepspeed_fine_tuning.html#fine-tuning-the-model-with-ray-train-a-name-train-a'}\n",
      "{'text': 'Configuring Accelerate#\\nIn Ray Train, you can set configurations through the accelerate.Accelerator\\nobject in your training function. Below are starter examples for configuring Accelerate.\\nDeepSpeedFSDPFor example, to run DeepSpeed with Accelerate, create a DeepSpeedPlugin\\nfrom a dictionary:\\nfrom accelerate import Accelerator, DeepSpeedPlugin', 'source': 'https://docs.ray.io/en/master/train/huggingface-accelerate.html#configuring-accelerate'}\n",
      "{'text': 'Ray Serve: Scalable and Programmable Serving#\\nTip\\nGet in touch with us if you’re using or considering using Ray Serve.', 'source': 'https://docs.ray.io/en/master/serve/index.html#ray-serve-scalable-and-programmable-serving'}\n",
      "{'text': 'Ray Serve API#', 'source': 'https://docs.ray.io/en/master/serve/api/index.html#ray-serve-api'}\n"
     ]
    }
   ],
   "source": [
    "idx = -2\n",
    "print(\"query\", df.iloc[idx][\"query\"])\n",
    "for document_id in df.iloc[idx][\"document_ids\"]:\n",
    "    print(retrieve_document(document_id))"
   ]
  }
 ],
 "metadata": {
  "language_info": {
   "name": "python"
  },
  "orig_nbformat": 4
 },
 "nbformat": 4,
 "nbformat_minor": 2
}
